{
 "cells": [
  {
   "cell_type": "code",
   "execution_count": 1,
   "metadata": {},
   "outputs": [
    {
     "name": "stderr",
     "output_type": "stream",
     "text": [
      "/Users/velissarioschristodoulou/Library/Python/3.9/lib/python/site-packages/urllib3/__init__.py:35: NotOpenSSLWarning: urllib3 v2 only supports OpenSSL 1.1.1+, currently the 'ssl' module is compiled with 'LibreSSL 2.8.3'. See: https://github.com/urllib3/urllib3/issues/3020\n",
      "  warnings.warn(\n"
     ]
    },
    {
     "data": {
      "text/plain": [
       "Document(page_content='Investor Contact: Media Contact:\\nPaul Trussell KeJuan Wilkins\\ninvestor.relations@nike.com media.relations@nike.com\\nNIKE, INC. REPORTS FISCAL 2023  FIRST QUARTER  RESULTS\\nBEAVERTON, Ore., Sept. 29, 2022  — NIKE, Inc. (NYSE:NKE) today reported fiscal 2023  financial \\nresults for its first quarter  ended August 31, 2022 . \\n•First quarter  reported revenues were $12.7 billion , up 4 percent  compared to the prior year  and \\nup 10 percent  on a currency-neutral basis*\\n•NIKE Direct sales were $5.1 billion , up 8 percent  on a reported basis and up 14 percent  on a \\ncurrency-neutral basis\\n•NIKE Brand Digital sales increased 16 percent  on a reported basis, or 23 percent on a \\ncurrency-neutral basis, led by 46 percent growth in EMEA\\n•Gross margin decreased 220 basis points to 44.3 percent\\n•Diluted earnings per share for the quarter was $0.93 , down 20 percent\\n\"Our strong start to FY23  highlights the depth and breadth of NIKE’s global portfolio, as we \\ncontinue to manage through volatility,” said John Donahoe, President and CEO, NIKE, Inc. “Our \\ncompetitive advantages, including the strength of our brand, deep consumer connections and \\npipeline of innovative product, continue to prove that our strategy is working. We expect our \\nunrelenting focus on better serving the consumer to continue to fuel growth and create value like \\nonly NIKE can.\"**\\nFirst Quarter  revenues increased 10 percent  on a currency-neutral basis, led by NIKE Direct \\ngrowth of 14 percent . NIKE Brand Digital business fueled growth, increasing by 23 percent, driven \\nby double-digit growth in EMEA, North America and APLA,  partially offset by declines in Greater \\nChina. Wholesale revenues increased 1 percent on a reported basis and were up 8 percent on a \\ncurrency-neutral basis, with growth due to improved levels of available supply of inventory for \\npartners .\\n“NIKE\\'s first quarter results set the foundation for another year of strong growth,” said Matthew \\nFriend, Executive Vice President and Chief Financial Officer, NIKE, Inc. “Our focus continues to be \\nthe consumer, as we take action to navigate near-term dynamics while expanding long-term \\nstructural benefits through our Consumer Direct Acceleration strategy.”**\\nFirst Quarter  Income Statement Review\\n•Revenues  for NIKE, Inc. increased 4 percent  to $12.7 billion  compared to the prior year and \\nwere up 10 percent  on a currency-neutral basis.\\n◦Revenues for the NIKE Brand were $12.0 billion , up 4 percent  on a repo rted basis and up \\n10 percent  on a currency-neutral basis, led by double-digit currency-neutral growth in North \\nAmerica, E MEA  and APLA , partially offset by declines in Greater China. \\n◦Revenues for Converse were $643 million , up 2 percent  on a reported basis and up 8 \\npercent  on a currency-neutral basis, led by  double-digit growth in North America and \\nEurope, partially offset by declines in Asia.', metadata={'source': 'FY23-Q1-Combined-NIKE-Press-Release-Schedules-FINAL.pdf', 'page': 0})"
      ]
     },
     "execution_count": 1,
     "metadata": {},
     "output_type": "execute_result"
    }
   ],
   "source": [
    "# Convert PDF to text\n",
    "\n",
    "from langchain_community.document_loaders import PyPDFLoader\n",
    "\n",
    "loader = PyPDFLoader(\"FY23-Q1-Combined-NIKE-Press-Release-Schedules-FINAL.pdf\")\n",
    "pages = loader.load_and_split()"
   ]
  },
  {
   "cell_type": "code",
   "execution_count": 8,
   "metadata": {},
   "outputs": [
    {
     "name": "stdout",
     "output_type": "stream",
     "text": [
      "Investor Contact: Media Contact:\n",
      "Paul Trussell KeJuan Wilkins\n",
      "investor.relations@nike.com media.relations@nike.com\n",
      "NIKE, INC. REPORTS FISCAL 2023  FIRST QUARTER  RESULTS\n",
      "BEAVERTON, Ore., Sept. 29, 2022  — NIKE, Inc. (NYSE:NKE) today reported fiscal 2023  financial \n",
      "results for its first quarter  ended August 31, 2022 . \n",
      "•First quarter  reported revenues were $12.7 billion , up 4 percent  compared to the prior year  and \n",
      "up 10 percent  on a currency-neutral basis*\n",
      "•NIKE Direct sales were $5.1 billion , up 8 percent  on a reported basis and up 14 percent  on a \n",
      "currency-neutral basis\n",
      "•NIKE Brand Digital sales increased 16 percent  on a reported basis, or 23 percent on a \n",
      "currency-neutral basis, led by 46 percent growth in EMEA\n",
      "•Gross margin decreased 220 basis points to 44.3 percent\n",
      "•Diluted earnings per share for the quarter was $0.93 , down 20 percent\n",
      "\"Our strong start to FY23  highlights the depth and breadth of NIKE’s global portfolio, as we \n",
      "continue to manage through volatility,” said John Donahoe, President and CEO, NIKE, Inc. “Our \n",
      "competitive advantages, including the strength of our brand, deep consumer connections and \n",
      "pipeline of innovative product, continue to prove that our strategy is working. We expect our \n",
      "unrelenting focus on better serving the consumer to continue to fuel growth and create value like \n",
      "only NIKE can.\"**\n",
      "First Quarter  revenues increased 10 percent  on a currency-neutral basis, led by NIKE Direct \n",
      "growth of 14 percent . NIKE Brand Digital business fueled growth, increasing by 23 percent, driven \n",
      "by double-digit growth in EMEA, North America and APLA,  partially offset by declines in Greater \n",
      "China. Wholesale revenues increased 1 percent on a reported basis and were up 8 percent on a \n",
      "currency-neutral basis, with growth due to improved levels of available supply of inventory for \n",
      "partners .\n",
      "“NIKE's first quarter results set the foundation for another year of strong growth,” said Matthew \n",
      "Friend, Executive Vice President and Chief Financial Officer, NIKE, Inc. “Our focus continues to be \n",
      "the consumer, as we take action to navigate near-term dynamics while expanding long-term \n",
      "structural benefits through our Consumer Direct Acceleration strategy.”**\n",
      "First Quarter  Income Statement Review\n",
      "•Revenues  for NIKE, Inc. increased 4 percent  to $12.7 billion  compared to the prior year and \n",
      "were up 10 percent  on a currency-neutral basis.\n",
      "◦Revenues for the NIKE Brand were $12.0 billion , up 4 percent  on a repo rted basis and up \n",
      "10 percent  on a currency-neutral basis, led by double-digit currency-neutral growth in North \n",
      "America, E MEA  and APLA , partially offset by declines in Greater China. \n",
      "◦Revenues for Converse were $643 million , up 2 percent  on a reported basis and up 8 \n",
      "percent  on a currency-neutral basis, led by  double-digit growth in North America and \n",
      "Europe, partially offset by declines in Asia.\n"
     ]
    }
   ],
   "source": [
    "print(pages[0].page_content)"
   ]
  },
  {
   "cell_type": "code",
   "execution_count": 10,
   "metadata": {},
   "outputs": [],
   "source": [
    "# Create a prompt template for parsing information\n",
    "\n",
    "from langchain.chat_models import ChatOpenAI\n",
    "from langchain.prompts import ChatPromptTemplate \n",
    "\n",
    "template_string = \"\"\" {report} \\n\n",
    "From the above report, extract the following information in a JSON format: \\n\n",
    "* Company name \\n\n",
    "* Date of report \\n\n",
    "* Headquarters \\n\n",
    "* Industry \\n \n",
    "* Revenue \\n \n",
    "* Gross Margin percentage \\n \n",
    "* Overheads \\n \n",
    "* Reported EBITDA \\n \n",
    "* Adjusted EBITDA \\n \n",
    "* Adj EBITDA margin percentage \\n \n",
    "* Reported EBITDA \\n \n",
    "* Change in NWC \\n \n",
    "* Capex \\n \n",
    "* Exceptional and other \\n \n",
    "* Cash tax \\n \n",
    "* Unlevered FCF \\n \n",
    "* Annualised Cash Interest \\n \n",
    "* Interest Cover \\n \n",
    "* DSCR \\n \"\"\"\n",
    "\n",
    "prompt_template = ChatPromptTemplate.from_template(template=template_string)"
   ]
  },
  {
   "cell_type": "code",
   "execution_count": 11,
   "metadata": {},
   "outputs": [],
   "source": [
    "chat = ChatOpenAI(temperature=0.7)\n",
    "\n",
    "input = prompt_template.format_messages(report=pages[0].page_content)"
   ]
  },
  {
   "cell_type": "code",
   "execution_count": 13,
   "metadata": {},
   "outputs": [],
   "source": [
    "output = chat(input)"
   ]
  },
  {
   "cell_type": "code",
   "execution_count": 15,
   "metadata": {},
   "outputs": [
    {
     "name": "stdout",
     "output_type": "stream",
     "text": [
      "{\n",
      "  \"Company name\": \"NIKE, Inc.\",\n",
      "  \"Date of report\": \"September 29, 2022\",\n",
      "  \"Headquarters\": \"Beaverton, Oregon\",\n",
      "  \"Industry\": \"Sportswear\",\n",
      "  \"Revenue\": \"$12.7 billion\",\n",
      "  \"Gross Margin percentage\": \"44.3%\",\n",
      "  \"Overheads\": \"Not provided in the report\",\n",
      "  \"Reported EBITDA\": \"Not provided in the report\",\n",
      "  \"Adjusted EBITDA\": \"Not provided in the report\",\n",
      "  \"Adj EBITDA margin percentage\": \"Not provided in the report\",\n",
      "  \"Change in NWC\": \"Not provided in the report\",\n",
      "  \"Capex\": \"Not provided in the report\",\n",
      "  \"Exceptional and other\": \"Not provided in the report\",\n",
      "  \"Cash tax\": \"Not provided in the report\",\n",
      "  \"Unlevered FCF\": \"Not provided in the report\",\n",
      "  \"Annualised Cash Interest\": \"Not provided in the report\",\n",
      "  \"Interest Cover\": \"Not provided in the report\",\n",
      "  \"DSCR\": \"Not provided in the report\"\n",
      "}\n"
     ]
    }
   ],
   "source": [
    "print(output.content)"
   ]
  },
  {
   "cell_type": "code",
   "execution_count": 27,
   "metadata": {},
   "outputs": [
    {
     "name": "stdout",
     "output_type": "stream",
     "text": [
      "NIKE, Inc.\n"
     ]
    }
   ],
   "source": [
    "# Convert json object string to a python dictionary\n",
    "import json\n",
    "\n",
    "out = json.loads(output.content)"
   ]
  }
 ],
 "metadata": {
  "kernelspec": {
   "display_name": "Python 3",
   "language": "python",
   "name": "python3"
  },
  "language_info": {
   "codemirror_mode": {
    "name": "ipython",
    "version": 3
   },
   "file_extension": ".py",
   "mimetype": "text/x-python",
   "name": "python",
   "nbconvert_exporter": "python",
   "pygments_lexer": "ipython3",
   "version": "3.9.6"
  }
 },
 "nbformat": 4,
 "nbformat_minor": 2
}
